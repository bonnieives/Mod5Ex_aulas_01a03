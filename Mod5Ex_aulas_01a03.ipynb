{
 "cells": [
  {
   "cell_type": "markdown",
   "metadata": {},
   "source": [
    "# Módulo 5 Tarefa 1\n",
    "## Base de nascidos vivos do DataSUS\n",
    "O DataSUS disponibiliza diversos arquivos de dados com relação a seus segurados, conforme a [lei da transparência de informações públicas](https://www.sisgov.com/transparencia-acesso-informacao/#:~:text=A%20Lei%20da%20Transpar%C3%AAncia%20(LC,em%20um%20site%20na%20internet.). \n",
    "\n",
    "Essas informações podem ser obtidas pela internet [aqui](http://www2.datasus.gov.br/DATASUS/index.php?area=0901&item=1). Como o processo de obtenção desses arquivos foge um pouco do nosso escopo, deixamos o arquivo SINASC_RO_2019.csv` já como vai ser encontrado no DataSUS. O dicionário de dados está no arquivo `estrutura_sinasc_para_CD.pdf` (o nome do arquivo tal qual no portal do DataSUS).\n",
    "\n",
    "### Nosso objetivo\n",
    "Queremos deixar uma base organizada para podermos estudar a relação entre partos com risco para o bebê e algumas condições como tempo de parto, consultas de pré-natal etc.\n",
    "\n",
    "#### Preparação da base\n",
    "1. Carregue a base 'SINASC_RO_2019.csv'. Conte o número de registros e o número de registros não duplicados da base. Dica: você aprendeu um método que remove duplicados, encadeie este método com um outro método que conta o número de linhas. **Há linhas duplicadas?**  \n",
    "\n",
    "2. Conte o número de valores *missing* por variável.  \n",
    "\n",
    "3. Ok, no item anterior você deve ter achado pouco prático ler a informação de tantas variáveis, muitas delas nem devem ser interesantes. Então crie uma seleção dessa base somente com as colunas que interessam. São elas:\n",
    "` \n",
    "['LOCNASC', 'IDADEMAE', 'ESTCIVMAE', 'ESCMAE', 'QTDFILVIVO', \n",
    "    'GESTACAO', 'GRAVIDEZ', 'CONSULTAS', 'APGAR5'] \n",
    "`\n",
    "Refaça a contagem de valores *missings*.  \n",
    "\n",
    "4. Apgar é uma *nota* que o pediatra dá ao bebê quando nasce de acordo com algumas características associadas principalmente à respiração. Apgar 1 e Apgar 5 são as notas 1 e 5 minutos do nascimento. Apgar5 será a nossa variável de interesse principal. Então remova todos os registros com Apgar5 não preenchido. Para esta seleção, conte novamente o número de linhas e o número de *missings*.  \n",
    "\n",
    "5. observe que as variáveis `['ESTCIVMAE', 'CONSULTAS']` possuem o código `9`, que significa *ignorado*. Vamos assumir que o não preenchido é o mesmo que o código `9`.<br>\n",
    "6. Substitua os valores faltantes da quantitativa (`QTDFILVIVO`) por zero.  \n",
    "7. Das restantes, decida que valore te parece mais adequado (um 'não preenchido' ou um valor 'mais provável' como no item anterior) e preencha. Justifique. Lembre-se de que tratamento de dados é trabalho do cientista, e que estamos tomando decisões a todo o momento - não há necessariamente certo e errado aqui.  \n",
    "8. O Apgar possui uma classificação indicando se o bebê passou por asfixia:\n",
    "- Entre 8 e 10 está em uma faixa 'normal'. \n",
    "- Entre 6 e 7, significa que o recém-nascido passou por 'asfixia leve'. \n",
    "- Entre 4 e 5 significa 'asfixia moderada'.\n",
    "- Entre 0 e 3 significa 'asfixia severa'.  \n",
    "\n",
    "Crie uma categorização dessa variável com essa codificação e calcule as frequências dessa categorização.  \n",
    "<br>\n",
    "9. Renomeie as variáveis para que fiquem no *snake case*, ou seja, em letras minúsculas, com um *underscore* entre as palávras. Dica: repare que se você não quiser criar um *dataframe* novo, você vai precisar usar a opção `inplace = True`."
   ]
  },
  {
   "cell_type": "code",
   "execution_count": 2,
   "metadata": {},
   "outputs": [
    {
     "name": "stdout",
     "output_type": "stream",
     "text": [
      "(27028, 69)\n"
     ]
    },
    {
     "data": {
      "text/plain": [
       "(27028, 69)"
      ]
     },
     "execution_count": 2,
     "metadata": {},
     "output_type": "execute_result"
    }
   ],
   "source": [
    "import pandas as pd\n",
    "import requests\n",
    "\n",
    "# 1) seu código aqui\n",
    "sinasc = pd.read_csv('SINASC_RO_2019.csv')\n",
    "print(sinasc.shape)\n",
    "sinasc.drop_duplicates().shape\n",
    "# Não há duplicados"
   ]
  },
  {
   "cell_type": "code",
   "execution_count": 3,
   "metadata": {},
   "outputs": [
    {
     "name": "stdout",
     "output_type": "stream",
     "text": [
      "DTRECORIGA    27028\n",
      "CODANOMAL     26814\n",
      "IDADEPAI      19421\n",
      "SERIESCMAE    12710\n",
      "DTULTMENST    10072\n",
      "              ...  \n",
      "PESO              0\n",
      "DTCADASTRO        0\n",
      "NUMEROLOTE        0\n",
      "VERSAOSIST        0\n",
      "ORIGEM            0\n",
      "Length: 69, dtype: int64\n"
     ]
    }
   ],
   "source": [
    "# 2) seu código aqui\n",
    "print(sinasc.isna().sum().sort_values(ascending=False))"
   ]
  },
  {
   "cell_type": "code",
   "execution_count": 4,
   "metadata": {},
   "outputs": [
    {
     "data": {
      "text/plain": [
       "LOCNASC          0\n",
       "IDADEMAE         0\n",
       "ESTCIVMAE      317\n",
       "ESCMAE         312\n",
       "QTDFILVIVO    1573\n",
       "GESTACAO      1232\n",
       "GRAVIDEZ        79\n",
       "CONSULTAS        0\n",
       "APGAR5         103\n",
       "dtype: int64"
      ]
     },
     "execution_count": 4,
     "metadata": {},
     "output_type": "execute_result"
    }
   ],
   "source": [
    "# 3) seu código aqui\n",
    "sinasc[['LOCNASC', 'IDADEMAE', 'ESTCIVMAE', 'ESCMAE', 'QTDFILVIVO',   'GESTACAO', 'GRAVIDEZ', 'CONSULTAS', 'APGAR5']].isna().sum()"
   ]
  },
  {
   "cell_type": "code",
   "execution_count": 5,
   "metadata": {},
   "outputs": [
    {
     "name": "stdout",
     "output_type": "stream",
     "text": [
      "Quantidade de valores faltantes para APGAR5 antes: 103\n",
      "Formato do nosso DataFrame antes: (27028, 69)\n",
      "Quantidade de valores faltantes para APGAR5 depois: 0\n",
      "Formato do nosso DataFrame depois: (26925, 69)\n"
     ]
    }
   ],
   "source": [
    "# 4) seu código aqui\n",
    "print(f'Quantidade de valores faltantes para APGAR5 antes: {sinasc.APGAR5.isna().sum()}')\n",
    "print(f'Formato do nosso DataFrame antes: {sinasc.shape}')\n",
    "sinasc = sinasc.dropna(subset=['APGAR5'])\n",
    "print(f'Quantidade de valores faltantes para APGAR5 depois: {sinasc.APGAR5.isna().sum()}')\n",
    "print(f'Formato do nosso DataFrame depois: {sinasc.shape}')"
   ]
  },
  {
   "cell_type": "code",
   "execution_count": 6,
   "metadata": {},
   "outputs": [
    {
     "name": "stdout",
     "output_type": "stream",
     "text": [
      "Quantidade de valores faltantes para ESTCIVMAE antes: 315\n",
      "Formato do nosso DataFrame antes: (26925, 69)\n",
      "Quantidade de valores faltantes para ESTCIVMAE depois: 0\n",
      "Formato do nosso DataFrame depois: (26610, 69)\n",
      "\n",
      "********************\n",
      "\n",
      "Quantidade de valores faltantes para CONSULTAS antes: 0\n",
      "Formato do nosso DataFrame antes: (26610, 69)\n",
      "Quantidade de valores faltantes para CONSULTAS depois: 0\n",
      "Formato do nosso DataFrame depois: (26610, 69)\n"
     ]
    }
   ],
   "source": [
    "# 5) seu código aqui\n",
    "print(f'Quantidade de valores faltantes para ESTCIVMAE antes: {sinasc.ESTCIVMAE.isna().sum()}')\n",
    "print(f'Formato do nosso DataFrame antes: {sinasc.shape}')\n",
    "sinasc = sinasc.dropna(subset=['ESTCIVMAE'])\n",
    "print(f'Quantidade de valores faltantes para ESTCIVMAE depois: {sinasc.ESTCIVMAE.isna().sum()}')\n",
    "print(f'Formato do nosso DataFrame depois: {sinasc.shape}')\n",
    "print()\n",
    "print(\"********************\")\n",
    "print()\n",
    "print(f'Quantidade de valores faltantes para CONSULTAS antes: {sinasc.CONSULTAS.isna().sum()}')\n",
    "print(f'Formato do nosso DataFrame antes: {sinasc.shape}')\n",
    "sinasc = sinasc.dropna(subset=['CONSULTAS'])\n",
    "print(f'Quantidade de valores faltantes para CONSULTAS depois: {sinasc.CONSULTAS.isna().sum()}')\n",
    "print(f'Formato do nosso DataFrame depois: {sinasc.shape}')"
   ]
  },
  {
   "cell_type": "code",
   "execution_count": 7,
   "metadata": {},
   "outputs": [
    {
     "name": "stdout",
     "output_type": "stream",
     "text": [
      "Valores faltantes para QTDFILVIVO antes: 1537\n",
      "Valores iguais a zero para QTDFILVIVO antes: 9202\n",
      "Valores faltantes para QTDFILVIVO depois: 0\n",
      "Valores iguais a zero para QTDFILVIVO depois: 10739\n"
     ]
    }
   ],
   "source": [
    "# 6) Seu código aqui\n",
    "print(f'Valores faltantes para QTDFILVIVO antes: {sinasc.QTDFILVIVO.isna().sum()}')\n",
    "print(f'Valores iguais a zero para QTDFILVIVO antes: {(sinasc['QTDFILVIVO'] == 0).sum()}')\n",
    "sinasc.fillna({'QTDFILVIVO': 0}, inplace=True)\n",
    "print(f'Valores faltantes para QTDFILVIVO depois: {sinasc.QTDFILVIVO.isna().sum()}')\n",
    "(sinasc['QTDFILVIVO'] == 0).sum()\n",
    "print(f'Valores iguais a zero para QTDFILVIVO depois: {(sinasc['QTDFILVIVO'] == 0).sum()}')"
   ]
  },
  {
   "cell_type": "code",
   "execution_count": 26,
   "metadata": {},
   "outputs": [
    {
     "data": {
      "text/html": [
       "<div>\n",
       "<style scoped>\n",
       "    .dataframe tbody tr th:only-of-type {\n",
       "        vertical-align: middle;\n",
       "    }\n",
       "\n",
       "    .dataframe tbody tr th {\n",
       "        vertical-align: top;\n",
       "    }\n",
       "\n",
       "    .dataframe thead th {\n",
       "        text-align: right;\n",
       "    }\n",
       "</style>\n",
       "<table border=\"1\" class=\"dataframe\">\n",
       "  <thead>\n",
       "    <tr style=\"text-align: right;\">\n",
       "      <th></th>\n",
       "      <th>ORIGEM</th>\n",
       "      <th>CODESTAB</th>\n",
       "      <th>CODMUNNASC</th>\n",
       "      <th>LOCNASC</th>\n",
       "      <th>IDADEMAE</th>\n",
       "      <th>ESTCIVMAE</th>\n",
       "      <th>ESCMAE</th>\n",
       "      <th>CODOCUPMAE</th>\n",
       "      <th>QTDFILVIVO</th>\n",
       "      <th>QTDFILMORT</th>\n",
       "      <th>...</th>\n",
       "      <th>KOTELCHUCK</th>\n",
       "      <th>CONTADOR</th>\n",
       "      <th>munResStatus</th>\n",
       "      <th>munResTipo</th>\n",
       "      <th>munResNome</th>\n",
       "      <th>munResUf</th>\n",
       "      <th>munResLat</th>\n",
       "      <th>munResLon</th>\n",
       "      <th>munResAlt</th>\n",
       "      <th>munResArea</th>\n",
       "    </tr>\n",
       "  </thead>\n",
       "  <tbody>\n",
       "    <tr>\n",
       "      <th>0</th>\n",
       "      <td>1</td>\n",
       "      <td>2679477.0</td>\n",
       "      <td>110001</td>\n",
       "      <td>1</td>\n",
       "      <td>19</td>\n",
       "      <td>5.0</td>\n",
       "      <td>8 a 11 anos</td>\n",
       "      <td>9.0</td>\n",
       "      <td>0.0</td>\n",
       "      <td>0.0</td>\n",
       "      <td>...</td>\n",
       "      <td>5</td>\n",
       "      <td>1</td>\n",
       "      <td>ATIVO</td>\n",
       "      <td>MUNIC</td>\n",
       "      <td>Alta Floresta D'Oeste</td>\n",
       "      <td>Rondônia</td>\n",
       "      <td>-11.93554</td>\n",
       "      <td>-61.99982</td>\n",
       "      <td>338.0</td>\n",
       "      <td>7067.025</td>\n",
       "    </tr>\n",
       "    <tr>\n",
       "      <th>1</th>\n",
       "      <td>1</td>\n",
       "      <td>2679477.0</td>\n",
       "      <td>110001</td>\n",
       "      <td>1</td>\n",
       "      <td>29</td>\n",
       "      <td>2.0</td>\n",
       "      <td>8 a 11 anos</td>\n",
       "      <td>999992.0</td>\n",
       "      <td>1.0</td>\n",
       "      <td>0.0</td>\n",
       "      <td>...</td>\n",
       "      <td>5</td>\n",
       "      <td>2</td>\n",
       "      <td>ATIVO</td>\n",
       "      <td>MUNIC</td>\n",
       "      <td>Alta Floresta D'Oeste</td>\n",
       "      <td>Rondônia</td>\n",
       "      <td>-11.93554</td>\n",
       "      <td>-61.99982</td>\n",
       "      <td>338.0</td>\n",
       "      <td>7067.025</td>\n",
       "    </tr>\n",
       "    <tr>\n",
       "      <th>2</th>\n",
       "      <td>1</td>\n",
       "      <td>2679477.0</td>\n",
       "      <td>110001</td>\n",
       "      <td>1</td>\n",
       "      <td>37</td>\n",
       "      <td>9.0</td>\n",
       "      <td>8 a 11 anos</td>\n",
       "      <td>513205.0</td>\n",
       "      <td>2.0</td>\n",
       "      <td>0.0</td>\n",
       "      <td>...</td>\n",
       "      <td>5</td>\n",
       "      <td>3</td>\n",
       "      <td>ATIVO</td>\n",
       "      <td>MUNIC</td>\n",
       "      <td>Alta Floresta D'Oeste</td>\n",
       "      <td>Rondônia</td>\n",
       "      <td>-11.93554</td>\n",
       "      <td>-61.99982</td>\n",
       "      <td>338.0</td>\n",
       "      <td>7067.025</td>\n",
       "    </tr>\n",
       "    <tr>\n",
       "      <th>3</th>\n",
       "      <td>1</td>\n",
       "      <td>2516500.0</td>\n",
       "      <td>110001</td>\n",
       "      <td>1</td>\n",
       "      <td>30</td>\n",
       "      <td>5.0</td>\n",
       "      <td>12 anos ou mais</td>\n",
       "      <td>231205.0</td>\n",
       "      <td>0.0</td>\n",
       "      <td>0.0</td>\n",
       "      <td>...</td>\n",
       "      <td>4</td>\n",
       "      <td>4</td>\n",
       "      <td>ATIVO</td>\n",
       "      <td>MUNIC</td>\n",
       "      <td>Alto Alegre dos Parecis</td>\n",
       "      <td>Rondônia</td>\n",
       "      <td>-12.13178</td>\n",
       "      <td>-61.85308</td>\n",
       "      <td>397.0</td>\n",
       "      <td>3958.273</td>\n",
       "    </tr>\n",
       "    <tr>\n",
       "      <th>4</th>\n",
       "      <td>1</td>\n",
       "      <td>2516500.0</td>\n",
       "      <td>110001</td>\n",
       "      <td>1</td>\n",
       "      <td>30</td>\n",
       "      <td>2.0</td>\n",
       "      <td>8 a 11 anos</td>\n",
       "      <td>999992.0</td>\n",
       "      <td>1.0</td>\n",
       "      <td>0.0</td>\n",
       "      <td>...</td>\n",
       "      <td>5</td>\n",
       "      <td>5</td>\n",
       "      <td>ATIVO</td>\n",
       "      <td>MUNIC</td>\n",
       "      <td>Alta Floresta D'Oeste</td>\n",
       "      <td>Rondônia</td>\n",
       "      <td>-11.93554</td>\n",
       "      <td>-61.99982</td>\n",
       "      <td>338.0</td>\n",
       "      <td>7067.025</td>\n",
       "    </tr>\n",
       "  </tbody>\n",
       "</table>\n",
       "<p>5 rows × 69 columns</p>\n",
       "</div>"
      ],
      "text/plain": [
       "   ORIGEM   CODESTAB  CODMUNNASC  LOCNASC  IDADEMAE  ESTCIVMAE  \\\n",
       "0       1  2679477.0      110001        1        19        5.0   \n",
       "1       1  2679477.0      110001        1        29        2.0   \n",
       "2       1  2679477.0      110001        1        37        9.0   \n",
       "3       1  2516500.0      110001        1        30        5.0   \n",
       "4       1  2516500.0      110001        1        30        2.0   \n",
       "\n",
       "            ESCMAE  CODOCUPMAE  QTDFILVIVO  QTDFILMORT  ...  KOTELCHUCK  \\\n",
       "0      8 a 11 anos         9.0         0.0         0.0  ...           5   \n",
       "1      8 a 11 anos    999992.0         1.0         0.0  ...           5   \n",
       "2      8 a 11 anos    513205.0         2.0         0.0  ...           5   \n",
       "3  12 anos ou mais    231205.0         0.0         0.0  ...           4   \n",
       "4      8 a 11 anos    999992.0         1.0         0.0  ...           5   \n",
       "\n",
       "  CONTADOR munResStatus munResTipo               munResNome  munResUf  \\\n",
       "0        1        ATIVO      MUNIC    Alta Floresta D'Oeste  Rondônia   \n",
       "1        2        ATIVO      MUNIC    Alta Floresta D'Oeste  Rondônia   \n",
       "2        3        ATIVO      MUNIC    Alta Floresta D'Oeste  Rondônia   \n",
       "3        4        ATIVO      MUNIC  Alto Alegre dos Parecis  Rondônia   \n",
       "4        5        ATIVO      MUNIC    Alta Floresta D'Oeste  Rondônia   \n",
       "\n",
       "   munResLat munResLon  munResAlt  munResArea  \n",
       "0  -11.93554 -61.99982      338.0    7067.025  \n",
       "1  -11.93554 -61.99982      338.0    7067.025  \n",
       "2  -11.93554 -61.99982      338.0    7067.025  \n",
       "3  -12.13178 -61.85308      397.0    3958.273  \n",
       "4  -11.93554 -61.99982      338.0    7067.025  \n",
       "\n",
       "[5 rows x 69 columns]"
      ]
     },
     "execution_count": 26,
     "metadata": {},
     "output_type": "execute_result"
    }
   ],
   "source": [
    "# 7) seu código aqui \n",
    "sinasc = sinasc.apply(lambda col: col.fillna(9), axis=0)\n",
    "sinasc.head()\n",
    "\n",
    "# Para resolver o problema de forma dinamica e rapidamente, sem que necessitassemos buscar os tipos de dados de cada uma das colunas,\n",
    "# o mais apropriado para meu exemplo foi o de substituir em cada uma das colunas o NaN pelo codigo 9, de forma que o cientista de\n",
    "# dados que trabalhar com este data frame podera considerar que, para estas colunas, o dado faltante possui codigo 9 e consequentemente\n",
    "# nao houve mudanca no tipo de dado (data type) de forma que string permanece string, e numero permanece numero."
   ]
  },
  {
   "cell_type": "code",
   "execution_count": 35,
   "metadata": {},
   "outputs": [
    {
     "name": "stdout",
     "output_type": "stream",
     "text": [
      "Frequencia para normal: 23527\n",
      "Frequencia para asfixia leve: 2485\n",
      "Frequencia para asfixia moderada: 369\n",
      "Frequencia para asfixia severa: 229\n"
     ]
    }
   ],
   "source": [
    "# 8) seu código aqui\n",
    "sinasc.columns\n",
    "normal_count = ((sinasc['APGAR1'] <= 10) & (sinasc['APGAR1'] >= 8)).sum()\n",
    "asfixia_leve_count = ((sinasc['APGAR1'] < 8) & (sinasc['APGAR1'] >= 6)).sum()\n",
    "asfixia_moderada_count = ((sinasc['APGAR1'] < 6) & (sinasc['APGAR1'] >= 4)).sum()\n",
    "asfixia_severa_count = ((sinasc['APGAR1'] < 4) & (sinasc['APGAR1'] >= 0)).sum()\n",
    "\n",
    "print(f'Frequencia para normal: {normal_count}')\n",
    "print(f'Frequencia para asfixia leve: {asfixia_leve_count}')\n",
    "print(f'Frequencia para asfixia moderada: {asfixia_moderada_count}')\n",
    "print(f'Frequencia para asfixia severa: {asfixia_severa_count}')"
   ]
  },
  {
   "cell_type": "code",
   "execution_count": 37,
   "metadata": {},
   "outputs": [
    {
     "name": "stdout",
     "output_type": "stream",
     "text": [
      "Frequencia para normal: 26155\n",
      "Frequencia para asfixia leve: 314\n",
      "Frequencia para asfixia moderada: 68\n",
      "Frequencia para asfixia severa: 73\n"
     ]
    }
   ],
   "source": [
    "sinasc.columns\n",
    "normal_count = ((sinasc['APGAR5'] <= 10) & (sinasc['APGAR5'] >= 8)).sum()\n",
    "asfixia_leve_count = ((sinasc['APGAR5'] < 8) & (sinasc['APGAR5'] >= 6)).sum()\n",
    "asfixia_moderada_count = ((sinasc['APGAR5'] < 6) & (sinasc['APGAR5'] >= 4)).sum()\n",
    "asfixia_severa_count = ((sinasc['APGAR5'] < 4) & (sinasc['APGAR5'] >= 0)).sum()\n",
    "\n",
    "print(f'Frequencia para normal: {normal_count}')\n",
    "print(f'Frequencia para asfixia leve: {asfixia_leve_count}')\n",
    "print(f'Frequencia para asfixia moderada: {asfixia_moderada_count}')\n",
    "print(f'Frequencia para asfixia severa: {asfixia_severa_count}')"
   ]
  },
  {
   "cell_type": "code",
   "execution_count": 45,
   "metadata": {},
   "outputs": [
    {
     "name": "stdout",
     "output_type": "stream",
     "text": [
      "A lista de variaveis antes da mudanca para snake case\n",
      "Index(['origem', 'codestab', 'codmunnasc', 'locnasc', 'idademae', 'estcivmae',\n",
      "       'escmae', 'codocupmae', 'qtdfilvivo', 'qtdfilmort', 'codmunres',\n",
      "       'gestacao', 'gravidez', 'parto', 'consultas', 'dtnasc', 'horanasc',\n",
      "       'sexo', 'apgar1', 'apgar5', 'racacor', 'peso', 'idanomal', 'dtcadastro',\n",
      "       'codanomal', 'numerolote', 'versaosist', 'dtrecebim', 'difdata',\n",
      "       'dtrecoriga', 'naturalmae', 'codmunnatu', 'codufnatu', 'escmae2010',\n",
      "       'seriescmae', 'dtnascmae', 'racacormae', 'qtdgestant', 'qtdpartnor',\n",
      "       'qtdpartces', 'idadepai', 'dtultmenst', 'semagestac', 'tpmetestim',\n",
      "       'consprenat', 'mesprenat', 'tpapresent', 'sttrabpart', 'stcesparto',\n",
      "       'tpnascassi', 'tpfuncresp', 'tpdocresp', 'dtdeclarac', 'escmaeagr1',\n",
      "       'stdnepidem', 'stdnnova', 'codpaisres', 'tprobson', 'paridade',\n",
      "       'kotelchuck', 'contador', 'mun_res_status', 'mun_res_tipo',\n",
      "       'mun_res_nome', 'mun_res_uf', 'mun_res_lat', 'mun_res_lon',\n",
      "       'mun_res_alt', 'mun_res_area'],\n",
      "      dtype='object')\n",
      "\n",
      "****************\n",
      "\n",
      "A lista de variaveis depois da mudanca para snake case\n",
      "Index(['origem', 'codestab', 'codmunnasc', 'locnasc', 'idademae', 'estcivmae',\n",
      "       'escmae', 'codocupmae', 'qtdfilvivo', 'qtdfilmort', 'codmunres',\n",
      "       'gestacao', 'gravidez', 'parto', 'consultas', 'dtnasc', 'horanasc',\n",
      "       'sexo', 'apgar1', 'apgar5', 'racacor', 'peso', 'idanomal', 'dtcadastro',\n",
      "       'codanomal', 'numerolote', 'versaosist', 'dtrecebim', 'difdata',\n",
      "       'dtrecoriga', 'naturalmae', 'codmunnatu', 'codufnatu', 'escmae2010',\n",
      "       'seriescmae', 'dtnascmae', 'racacormae', 'qtdgestant', 'qtdpartnor',\n",
      "       'qtdpartces', 'idadepai', 'dtultmenst', 'semagestac', 'tpmetestim',\n",
      "       'consprenat', 'mesprenat', 'tpapresent', 'sttrabpart', 'stcesparto',\n",
      "       'tpnascassi', 'tpfuncresp', 'tpdocresp', 'dtdeclarac', 'escmaeagr1',\n",
      "       'stdnepidem', 'stdnnova', 'codpaisres', 'tprobson', 'paridade',\n",
      "       'kotelchuck', 'contador', 'mun_res_status', 'mun_res_tipo',\n",
      "       'mun_res_nome', 'mun_res_uf', 'mun_res_lat', 'mun_res_lon',\n",
      "       'mun_res_alt', 'mun_res_area'],\n",
      "      dtype='object')\n"
     ]
    }
   ],
   "source": [
    "# 9) seu código aqui\n",
    "import re\n",
    "\n",
    "print(\"A lista de variaveis antes da mudanca para snake case\")\n",
    "print(sinasc.columns)\n",
    "\n",
    "def camel_to_snake(name):\n",
    "    s1 = re.sub('(.)([A-Z][a-z]+)', r'\\1_\\2', name)\n",
    "    return re.sub('([a-z0-9])([A-Z])', r'\\1_\\2', s1).lower()\n",
    "\n",
    "sinasc.columns = [camel_to_snake(col) for col in sinasc.columns]\n",
    "print()\n",
    "print(\"****************\")\n",
    "print()\n",
    "print(\"A lista de variaveis depois da mudanca para snake case\")\n",
    "print(sinasc.columns)\n",
    "\n",
    "# A mudanca para snake case separando palavras foi realizada apenas para as variaveis que estavam em camel case, porem aquelas em\n",
    "# upper case nao foram possiveis de identificar automaticamente. Aceito sugestoes na correcao."
   ]
  },
  {
   "cell_type": "code",
   "execution_count": null,
   "metadata": {},
   "outputs": [],
   "source": []
  }
 ],
 "metadata": {
  "kernelspec": {
   "display_name": "Python 3 (ipykernel)",
   "language": "python",
   "name": "python3"
  },
  "language_info": {
   "codemirror_mode": {
    "name": "ipython",
    "version": 3
   },
   "file_extension": ".py",
   "mimetype": "text/x-python",
   "name": "python",
   "nbconvert_exporter": "python",
   "pygments_lexer": "ipython3",
   "version": "3.12.4"
  }
 },
 "nbformat": 4,
 "nbformat_minor": 4
}
